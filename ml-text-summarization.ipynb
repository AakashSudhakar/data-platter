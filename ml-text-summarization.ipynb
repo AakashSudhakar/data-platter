{
 "cells": [
  {
   "cell_type": "markdown",
   "metadata": {},
   "source": [
    "# A Gentle Introduction to Text Summarization in Machine Learning"
   ]
  },
  {
   "cell_type": "markdown",
   "metadata": {},
   "source": [
    "---"
   ]
  },
  {
   "cell_type": "markdown",
   "metadata": {},
   "source": [
    "## PART 0: Imports and Initializations"
   ]
  },
  {
   "cell_type": "code",
   "execution_count": 23,
   "metadata": {},
   "outputs": [],
   "source": [
    "# NLTK modules\n",
    "from nltk.corpus import stopwords\n",
    "from nltk.stem import PorterStemmer\n",
    "from nltk.tokenize import word_tokenize, sent_tokenize\n",
    "\n",
    "# Beautiful Soup and URL querying utilities\n",
    "import bs4 as BeautifulSoup\n",
    "from urllib import urlopen"
   ]
  },
  {
   "cell_type": "markdown",
   "metadata": {},
   "source": [
    "Here, we initialize our data processing engine for miscellaneous text data online."
   ]
  },
  {
   "cell_type": "code",
   "execution_count": 4,
   "metadata": {},
   "outputs": [],
   "source": [
    "# TODO: Insert processor engine initialization here."
   ]
  },
  {
   "cell_type": "markdown",
   "metadata": {},
   "source": [
    "---"
   ]
  },
  {
   "cell_type": "markdown",
   "metadata": {},
   "source": [
    "## PART 1: Overview of Concept"
   ]
  },
  {
   "cell_type": "markdown",
   "metadata": {},
   "source": [
    "### Two Major Types of Text Summarization:\n",
    "    - Extraction-based summarization\n",
    "    - Abstraction-based summarization"
   ]
  },
  {
   "cell_type": "markdown",
   "metadata": {},
   "source": [
    "### Steps to Perform Text Summarization:\n",
    "    1. Convert the paragraph into sentences.\n",
    "    2. Perform text processing.\n",
    "    3. Perform tokenization.\n",
    "    4. Evaluated the weighted occurrence frequency of the words. \n",
    "    5. Substitute words with their weighted frequencies."
   ]
  },
  {
   "cell_type": "markdown",
   "metadata": {},
   "source": [
    "<br>\n",
    "\n",
    "![](https://paper-attachments.dropbox.com/s_5DD7360138DEDEB8828AD11E4B5921DC0A55833560A1BC79C451FADB6E7D209D_1554467410003_image.png)\n",
    "\n",
    "<br>"
   ]
  },
  {
   "cell_type": "markdown",
   "metadata": {},
   "source": [
    "---"
   ]
  },
  {
   "cell_type": "markdown",
   "metadata": {},
   "source": [
    "## PART 2: Breakdown of Code Constructs"
   ]
  },
  {
   "cell_type": "markdown",
   "metadata": {},
   "source": [
    "### Step 1: Prepare the data."
   ]
  },
  {
   "cell_type": "code",
   "execution_count": 16,
   "metadata": {},
   "outputs": [],
   "source": [
    "PATH_DATA = \"https://en.wikipedia.org/wiki/20th_century\"\n",
    "\n",
    "data_read = urlopen(PATH_DATA).read()\n",
    "data_parsed = BeautifulSoup.BeautifulSoup(data_read, \"html.parser\")\n",
    "\n",
    "data_paragraphs = data_parsed.find_all(\"p\")\n",
    "\n",
    "data_content = str()\n",
    "for paragraph in paragraphs:\n",
    "    data_content += paragraph.text"
   ]
  },
  {
   "cell_type": "markdown",
   "metadata": {},
   "source": [
    "### Step 2: Process the data."
   ]
  },
  {
   "cell_type": "code",
   "execution_count": 19,
   "metadata": {},
   "outputs": [],
   "source": [
    "def create_frequency_table(text):\n",
    "    \"\"\" Function to create frequency histogram of word occurrences across input text. \"\"\"\n",
    "    stop_words = set(stopwords.words(\"english\"))\n",
    "    raw_words_from_data = word_tokenize(text)\n",
    "    stem = PorterStemmer()\n",
    "    # Create frequency table via dictionary operations\n",
    "    frequency_table = dict()\n",
    "    for word in words:\n",
    "        word_root = stem.stem(word)\n",
    "        if word_root in stop_words:\n",
    "            continue\n",
    "        if word_root in frequency_table:\n",
    "            frequency_table[word_root] += 1\n",
    "        else:\n",
    "            frequency_table[word_root] = 1\n",
    "    return frequency_table"
   ]
  },
  {
   "cell_type": "markdown",
   "metadata": {},
   "source": [
    "### Step 3: Tokenize the article into sentences."
   ]
  },
  {
   "cell_type": "code",
   "execution_count": 24,
   "metadata": {},
   "outputs": [],
   "source": [
    "sentences = sent_tokenize(data_content)"
   ]
  },
  {
   "cell_type": "markdown",
   "metadata": {},
   "source": [
    "### Step 4: Find the weighted frequencies of the sentences."
   ]
  },
  {
   "cell_type": "code",
   "execution_count": null,
   "metadata": {},
   "outputs": [],
   "source": [
    "def calculate_sentence_score(sentences, frequency_table):\n",
    "    \"\"\" Function to create weighted frequency scores from parsed sentences using frequency table. \"\"\"\n",
    "    "
   ]
  },
  {
   "cell_type": "markdown",
   "metadata": {},
   "source": [
    "### Step 5: Calculate the threshold of the sentences."
   ]
  },
  {
   "cell_type": "markdown",
   "metadata": {},
   "source": [
    "### Step 6: Obtain the summary."
   ]
  },
  {
   "cell_type": "code",
   "execution_count": 6,
   "metadata": {},
   "outputs": [],
   "source": [
    "# TODO: Code goes here.\n"
   ]
  },
  {
   "cell_type": "markdown",
   "metadata": {},
   "source": [
    "---"
   ]
  }
 ],
 "metadata": {
  "kernelspec": {
   "display_name": "Python 3",
   "language": "python",
   "name": "python3"
  },
  "language_info": {
   "codemirror_mode": {
    "name": "ipython",
    "version": 2
   },
   "file_extension": ".py",
   "mimetype": "text/x-python",
   "name": "python",
   "nbconvert_exporter": "python",
   "pygments_lexer": "ipython2",
   "version": "2.7.16"
  }
 },
 "nbformat": 4,
 "nbformat_minor": 2
}
